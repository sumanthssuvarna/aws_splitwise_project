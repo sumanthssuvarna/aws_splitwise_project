{
  "nbformat": 4,
  "nbformat_minor": 0,
  "metadata": {
    "colab": {
      "provenance": []
    },
    "kernelspec": {
      "name": "python3",
      "display_name": "Python 3"
    },
    "language_info": {
      "name": "python"
    }
  },
  "cells": [
    {
      "cell_type": "code",
      "source": [
        "!pip install kafka\n",
        "!pip install s3fs\n",
        "!pip install kafka-python"
      ],
      "metadata": {
        "id": "wgSl88YY8oJP"
      },
      "execution_count": null,
      "outputs": []
    },
    {
      "cell_type": "code",
      "source": [
        "!pip install confluent_kafka\n",
        "from confluent_kafka import Consumer, KafkaException\n",
        "!pip install kafka-python==2.0.2\n"
      ],
      "metadata": {
        "id": "R4euw8sKDdcw"
      },
      "execution_count": null,
      "outputs": []
    },
    {
      "cell_type": "code",
      "execution_count": null,
      "metadata": {
        "id": "THIKYRuH64yl"
      },
      "outputs": [],
      "source": [
        "from kafka import KafkaConsumer\n",
        "from time import sleep\n",
        "from json import dumps,loads\n",
        "import json\n",
        "from s3fs import S3FileSystem"
      ]
    },
    {
      "cell_type": "code",
      "source": [
        "consumer = KafkaConsumer(\n",
        "    'demo_testing123',\n",
        "     bootstrap_servers=['xx.xx.xx.xxx:9092'],#add your IP here\n",
        "    value_deserializer=lambda x: loads(x.decode('utf-8')))"
      ],
      "metadata": {
        "id": "Qg0HshzB9TDN"
      },
      "execution_count": null,
      "outputs": []
    },
    {
      "cell_type": "code",
      "source": [
        "\n",
        "# for c in consumer:\n",
        "#     print(c.value)"
      ],
      "metadata": {
        "id": "1CkVO5PuCn4T"
      },
      "execution_count": null,
      "outputs": []
    },
    {
      "cell_type": "code",
      "source": [
        "\n",
        "s3 = S3FileSystem()"
      ],
      "metadata": {
        "id": "d2pMq_eZCpuH"
      },
      "execution_count": null,
      "outputs": []
    },
    {
      "cell_type": "code",
      "source": [
        "import os\n",
        "\n",
        "os.environ[\"AWS_ACCESS_KEY_ID\"] = \"xxxxxxxxxxxxxxxxxxxxx\" #add access key\n",
        "os.environ[\"AWS_SECRET_ACCESS_KEY\"] = \"xxxxxxxxxxxxxxxxxxxxxxxx\" # add secret key of s3 bucket\n"
      ],
      "metadata": {
        "id": "Ji08X14jOXYb"
      },
      "execution_count": null,
      "outputs": []
    },
    {
      "cell_type": "code",
      "source": [
        "for count, i in enumerate(consumer):\n",
        "    with s3.open(\"s3://splitwise-streaming-monitor/splitwise_realtime_data_{}.json\".format(count), 'w') as file:\n",
        "        json.dump(i.value, file)"
      ],
      "metadata": {
        "id": "TB9NIYynCrrW"
      },
      "execution_count": null,
      "outputs": []
    }
  ]
}